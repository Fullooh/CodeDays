{
 "cells": [
  {
   "cell_type": "code",
   "execution_count": 1,
   "metadata": {},
   "outputs": [
    {
     "name": "stderr",
     "output_type": "stream",
     "text": [
      "[nltk_data] Downloading package stopwords to\n",
      "[nltk_data]     /Users/aeshapatel/nltk_data...\n",
      "[nltk_data]   Package stopwords is already up-to-date!\n",
      "[nltk_data] Downloading package punkt to\n",
      "[nltk_data]     /Users/aeshapatel/nltk_data...\n",
      "[nltk_data]   Package punkt is already up-to-date!\n"
     ]
    },
    {
     "data": {
      "text/plain": [
       "True"
      ]
     },
     "execution_count": 1,
     "metadata": {},
     "output_type": "execute_result"
    }
   ],
   "source": [
    "from PyPDF2 import PdfReader\n",
    "\n",
    "import nltk\n",
    "nltk.download('stopwords')\n",
    "nltk.download('punkt')"
   ]
  },
  {
   "cell_type": "code",
   "execution_count": 2,
   "metadata": {},
   "outputs": [],
   "source": [
    "file_name=input()"
   ]
  },
  {
   "cell_type": "code",
   "execution_count": 3,
   "metadata": {},
   "outputs": [
    {
     "name": "stderr",
     "output_type": "stream",
     "text": [
      "/Users/aeshapatel/Library/Python/3.8/lib/python/site-packages/urllib3/__init__.py:34: NotOpenSSLWarning: urllib3 v2.0 only supports OpenSSL 1.1.1+, currently the 'ssl' module is compiled with 'LibreSSL 2.8.3'. See: https://github.com/urllib3/urllib3/issues/3020\n",
      "  warnings.warn(\n"
     ]
    },
    {
     "name": "stdout",
     "output_type": "stream",
     "text": [
      "2\n",
      "Xin Zhang WPI-BOX 2937, 100 Institute Road, Worcester, MA 01609 Phone (508)831-5857 Fax (508)797-3150 E-mail xinz@cs.wpi.edu http://davis.wpi.edu/dsrg/MEMBERS/XINZ _____________________________________________________________________________________________  OBJECTIVE Full-Time Research and Development in the area of XML and Database technologies.  COMPUTER SKILLS Eight years on C and C++, five years on JAVA, and SQL, and two years on OQL, XQuery, XML, and UML. Very familiar with Microsoft Visual Studio, Latex, ORACLE 8.1.6. Visual Café, JBuilder, Together ControlCenter 5.5, Rational Rose, Viasoft Rochade, JavaCC, JTB, IBM VisualAge Enterprise, and CVS.   EDUCATION 1999 – 2003  Worcester Polytechnic Institute    Worcester, MA May 2003 Ph.D. in Computer Science in Research Area: XML Query Engine  May 1999  Master of Science in Computer Science in Research Area: Data Warehousing GPA: 3.8  INDUSTRY EXPERIENCE 2000 - 2001 Technical Intern   Verizon Labs   Waltham, MA • Conducted research and development of an XML management system based on relational technology. This system can load XML data into relational database by a fixed loading scheme. The relation schema is generated from XML’s DTD automatically. The performance of XML data loading can compare to the Oracle’s native XSU interface. The system also updates the loaded data by a set of API functions. It supports insert, delete, and update of any specific element identified by an XPath. Transaction model is implemented for the XML updates. Also the incremental validation of the updates. A paper called “Clock: Synchronizing Internal Relational Storage with External XML Documents” published on RIDE-DM2001. • Used UML to design the project’s class diagram. Used Java and JDBC to implement the main system. Used IBM’s XML4J parser to parse the XML and DTD. Used dynamic SQL and JDBC to communicate with the database backend. Led group meetings. Created and maintained the group development website. Installed Oracle server on Linux box. 1999 - 2000 Technical Intern   GTE Labs   Waltham, MA • Conducted research and development of a data integration system in the context of metadata repositories. The integration is based on the DTD. First, system stores the DTD into the relational database as metadata tables. Then, based on the metadata tables and different workload, created relational schema is created. Designed metadata tables to support flexible loading. A paper called “Integrating XML Data with Relational Databases” is published in ICDCS 2000. • Collaborated with two other senior technical stuffs. Oracle’s data dictionary tables are used.  1998 – 1999 Technical Intern   GTE Labs   Waltham, MA • Developed a system based on Rochade to support software component management. It includes web server html static pages design, dynamic CGI scripts design, Rochade client and cache management, and Rochade server modules design. The component management system can catalog the upload software modules written in C/C++/JAVA/RPL, can search modules by keywords, and can download selected packages. • Rochade and Rochade Web Toolkit are used. CGI scripts are used. Rochade information model are designed. Presentations and documentations are developed for this project. Rochade programming languages (like Dbase programming language) is used. TCP/IP and client/server techniques are used. Used RationalRose to design the class diagram, use cases, and activity diagrams.  RESEARCH EXPERIENCE 2000 - 2002 Research Assistant Worcester Polytechnic Institute  Worcester, MA • Conducted research and development of a system to support multiple XML loading and extraction strategies by XQueries, algebra based XQuery processing with order awareness, and update propagation. System can take XQuery parsed into XML algebra tree, optimize it and execute it. XML updates are specified by XQuery and propagated through the system. Designed system architecture. Proposed a new XML algebra and designed XML algebra rewriting rules. Extent Kweelt’s XQuery parser to support XML updates. (http://davis.wpi.edu/dsrg/rainbow) \n",
      "['xin', 'zhang', 'institute', 'road', 'worcester', 'phone', 'fax', 'xinz', 'http', 'objective', 'research', 'development', 'area', 'xml', 'database', 'technologies', 'computer', 'skills', 'eight', 'years', 'c', 'five', 'years', 'java', 'sql', 'two', 'years', 'oql', 'xquery', 'xml', 'uml', 'familiar', 'microsoft', 'visual', 'studio', 'latex', 'oracle', 'visual', 'café', 'jbuilder', 'together', 'controlcenter', 'rational', 'rose', 'viasoft', 'rochade', 'javacc', 'jtb', 'ibm', 'visualage', 'enterprise', 'cvs', 'education', 'worcester', 'polytechnic', 'institute', 'worcester', 'may', 'computer', 'science', 'research', 'area', 'xml', 'query', 'engine', 'may', 'master', 'science', 'computer', 'science', 'research', 'area', 'data', 'warehousing', 'gpa', 'industry', 'experience', 'technical', 'intern', 'verizon', 'labs', 'waltham', 'conducted', 'research', 'development', 'xml', 'management', 'system', 'based', 'relational', 'technology', 'system', 'load', 'xml', 'data', 'relational', 'database', 'fixed', 'loading', 'scheme', 'relation', 'schema', 'generated', 'xml', 'dtd', 'automatically', 'performance', 'xml', 'data', 'loading', 'compare', 'oracle', 'native', 'xsu', 'interface', 'system', 'also', 'updates', 'loaded', 'data', 'set', 'api', 'functions', 'supports', 'insert', 'delete', 'update', 'specific', 'element', 'identified', 'xpath', 'transaction', 'model', 'implemented', 'xml', 'updates', 'also', 'incremental', 'validation', 'updates', 'paper', 'called', 'clock', 'synchronizing', 'internal', 'relational', 'storage', 'external', 'xml', 'documents', 'published', 'used', 'uml', 'design', 'project', 'class', 'diagram', 'used', 'java', 'jdbc', 'implement', 'main', 'system', 'used', 'ibm', 'parser', 'parse', 'xml', 'dtd', 'used', 'dynamic', 'sql', 'jdbc', 'communicate', 'database', 'backend', 'led', 'group', 'meetings', 'created', 'maintained', 'group', 'development', 'website', 'installed', 'oracle', 'server', 'linux', 'box', 'technical', 'intern', 'gte', 'labs', 'waltham', 'conducted', 'research', 'development', 'data', 'integration', 'system', 'context', 'metadata', 'repositories', 'integration', 'based', 'dtd', 'first', 'system', 'stores', 'dtd', 'relational', 'database', 'metadata', 'tables', 'based', 'metadata', 'tables', 'different', 'workload', 'created', 'relational', 'schema', 'created', 'designed', 'metadata', 'tables', 'support', 'flexible', 'loading', 'paper', 'called', 'integrating', 'xml', 'data', 'relational', 'databases', 'published', 'icdcs', 'collaborated', 'two', 'senior', 'technical', 'stuffs', 'oracle', 'data', 'dictionary', 'tables', 'used', 'technical', 'intern', 'gte', 'labs', 'waltham', 'developed', 'system', 'based', 'rochade', 'support', 'software', 'component', 'management', 'includes', 'web', 'server', 'html', 'static', 'pages', 'design', 'dynamic', 'cgi', 'scripts', 'design', 'rochade', 'client', 'cache', 'management', 'rochade', 'server', 'modules', 'design', 'component', 'management', 'system', 'catalog', 'upload', 'software', 'modules', 'written', 'search', 'modules', 'keywords', 'download', 'selected', 'packages', 'rochade', 'rochade', 'web', 'toolkit', 'used', 'cgi', 'scripts', 'used', 'rochade', 'information', 'model', 'designed', 'presentations', 'documentations', 'developed', 'project', 'rochade', 'programming', 'languages', 'like', 'dbase', 'programming', 'language', 'used', 'techniques', 'used', 'used', 'rationalrose', 'design', 'class', 'diagram', 'use', 'cases', 'activity', 'diagrams', 'research', 'experience', 'research', 'assistant', 'worcester', 'polytechnic', 'institute', 'worcester', 'conducted', 'research', 'development', 'system', 'support', 'multiple', 'xml', 'loading', 'extraction', 'strategies', 'xqueries', 'algebra', 'based', 'xquery', 'processing', 'order', 'awareness', 'update', 'propagation', 'system', 'take', 'xquery', 'parsed', 'xml', 'algebra', 'tree', 'optimize', 'execute', 'xml', 'updates', 'specified', 'xquery', 'propagated', 'system', 'designed', 'system', 'architecture', 'proposed', 'new', 'xml', 'algebra', 'designed', 'xml', 'algebra', 'rewriting', 'rules', 'extent', 'kweelt', 'xquery', 'parser', 'support', 'xml', 'updates', 'http']\n"
     ]
    }
   ],
   "source": [
    "from pyresparser.utils import stopwords\n",
    "from nltk.corpus.reader.tagged import word_tokenize\n",
    "# creating a pdf reader object\n",
    "reader = PdfReader(file_name)\n",
    "\n",
    "# printing number of pages in pdf file\n",
    "print(len(reader.pages))\n",
    "\n",
    "# getting a specific page from the pdf file\n",
    "page = reader.pages[0]\n",
    "\n",
    "# extracting text from page\n",
    "text = page.extract_text()\n",
    "\n",
    "print(text)\n",
    "\n",
    "# removing stopwords, lowercasing, removing punctuation, stemming, or lemmatization\n",
    "tokens = word_tokenize(text)\n",
    "stop_words = set(stopwords.words('english'))\n",
    "filtered_text = [word for word in tokens if not word.lower() in stop_words]\n",
    "clean_text = [word.lower() for word in filtered_text if word.isalpha()]\n",
    "\n",
    "print(clean_text)"
   ]
  }
 ],
 "metadata": {
  "kernelspec": {
   "display_name": "Python 3",
   "language": "python",
   "name": "python3"
  },
  "language_info": {
   "codemirror_mode": {
    "name": "ipython",
    "version": 3
   },
   "file_extension": ".py",
   "mimetype": "text/x-python",
   "name": "python",
   "nbconvert_exporter": "python",
   "pygments_lexer": "ipython3",
   "version": "3.8.9"
  },
  "orig_nbformat": 4
 },
 "nbformat": 4,
 "nbformat_minor": 2
}
