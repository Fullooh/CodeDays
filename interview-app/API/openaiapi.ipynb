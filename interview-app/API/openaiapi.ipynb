{
 "cells": [
  {
   "cell_type": "code",
   "execution_count": 7,
   "metadata": {},
   "outputs": [
    {
     "name": "stdout",
     "output_type": "stream",
     "text": [
      "1. Can you tell me more about your experience as a Data Analyst Intern at Apexus Tech Inc? Specifically, how did you contribute to the team's ETF-based quantitative investment strategies?\n",
      "2. How did you leverage Python and multithreading to enhance the efficiency of data retrieval and storage for the ETF database at Apexus Tech Inc?\n",
      "3. Could you elaborate on your experience conducting research on NLP-driven sentiment analysis in the financial market? How did you develop heatmaps to visualize stocks' sentiment scores by sector for predictions of stock prices and investing strategy development?\n",
      "4. Can you explain how you built custom Grafana dashboards to monitor live stock prices and macroeconomic data at Apexus Tech Inc? How did this contribute to real-time analysis of market trends?\n",
      "5. In your role as a Business Analyst PTA at Bytedance Ltd, how did you provide ad-hoc data support to the team? Can you give an example of a self-service SQL query you created to investigate a sudden drop in commercial advertising revenue?\n",
      "6. Can you talk about your experience designing a Tableau dashboard for a new case closing data report module at Bytedance Ltd? How did this empower customers to view and analyze advertising revenue performance across multiple dimensions?\n",
      "7. In your Business Analytics Project at New York University, how did you analyze whether Shanghai Disneyland should implement a Fastpass system? Can you explain the methodologies and tools you used, such as NLP sentiment analysis, A/B testing, and regression?\n",
      "8. Can you discuss your role in the Housing Price Projection Project? How did you design and develop the data pipeline to process and analyze San Francisco housing records? What regression models did you employ to predict housing prices?\n",
      "9. Tell me about your experience analyzing Stanley Black & Decker's historical financial statements in the Investment Recommendation Project at New York University. How did you calculate and interpret essential financial ratios to highlight the company's strengths and weaknesses?\n",
      "10. Lastly, can you elaborate on your programming skills, specifically your proficiency in Python (pandas, NumPy, sklearn), SQL, and Java? How have you applied these skills in your previous roles and academic projects?\n"
     ]
    }
   ],
   "source": [
    "\n",
    "import openai\n",
    "\n",
    "openai.api_key = \"\"\n",
    "\n",
    "resume=input('please paste your resume here: ')+'/n'\n",
    "job=input('please paste your job here: ')+'/n'\n",
    "systempromt = \"You are an interviewer at the HR department at a company.\"\n",
    "userpromt= 'Given the resume of the interviewee: '+resume+ 'and the job description for the role'+job+\"please generate 5 interview questions that are specifically tailored to the candidate's resume and 5 interview questions based on the requirements of the job role. Only return questions without any additional information or empty lines.\"\n",
    "\n",
    "#print(userpromt)\n",
    "\n",
    "message=[\n",
    "    {\n",
    "      \"role\": \"system\",\n",
    "      \"content\": systempromt\n",
    "    },\n",
    "    {\n",
    "      \"role\": \"user\",\n",
    "      \"content\": userpromt\n",
    "    }\n",
    "  ]\n",
    "\n",
    "response = openai.ChatCompletion.create(\n",
    "  model=\"gpt-3.5-turbo\",\n",
    "  messages=message,\n",
    "  temperature=0.6,\n",
    "  max_tokens=1000,\n",
    "  top_p=1,\n",
    "  frequency_penalty=0,\n",
    "  presence_penalty=0\n",
    ")\n",
    "\n",
    "response_content = response.choices[0].message.content\n",
    "print(response_content)\n",
    "Resume-based questions:\n",
    "1. Can you explain your experience as a Data Analyst Intern at Apexus Tech Inc? Specifically, how did you enhance the efficiency of data retrieval and storage for the ETF database?\n",
    "2. In your role as a Business Analyst PTA at Bytedance Ltd, how did you provide ad-hoc data support to the team and what were the results?\n",
    "3. Tell me about your Business Analytics Project at New York University. What were the key findings and conclusions from your analysis of Shanghai Disneyland's Fastpass system?\n",
    "4. In your Housing Price Projection Project, how did you improve the prediction accuracy of housing prices? Can you explain the feature selection and engineering process you used?\n",
    "5. What were the key financial metrics you analyzed in your Investment Recommendation Project for Stanley Black & Decker? How did you identify the company's strengths and weaknesses?\n",
    "\n",
    "Job role-based questions:\n",
    "1. Have you worked on developing vehicle data collection and processing solutions in a fast-paced environment? Can you provide an example of a project where you used cutting-edge technologies to handle large amounts of data?\n",
    "2. How familiar are you with data security policies and implementing them in your work? Can you share an experience where you were involved in developing and implementing such policies?\n",
    "3. Have you worked with Docker and Kubernetes at a namespace level? How did you use these tools in your previous projects?\n",
    "4. Can you explain your experience with developing on RDBMS platforms such as PostgreSQL, Oracle, or Yugabyte? What types of projects have you worked on with these databases?\n",
    "5. Have you built reusable data integration frameworks and patterns? Can you provide an example of a project where you implemented such frameworks to optimize data systems and pipeline architecture?\n",
    "trial=response_content\n",
    "trial\n",
    "\"Resume-based questions:\\n1. Can you explain your experience as a Data Analyst Intern at Apexus Tech Inc? Specifically, how did you enhance the efficiency of data retrieval and storage for the ETF database?\\n2. In your role as a Business Analyst PTA at Bytedance Ltd, how did you provide ad-hoc data support to the team and what were the results?\\n3. Tell me about your Business Analytics Project at New York University. What were the key findings and conclusions from your analysis of Shanghai Disneyland's Fastpass system?\\n4. In your Housing Price Projection Project, how did you improve the prediction accuracy of housing prices? Can you explain the feature selection and engineering process you used?\\n5. What were the key financial metrics you analyzed in your Investment Recommendation Project for Stanley Black & Decker? How did you identify the company's strengths and weaknesses?\\n\\nJob role-based questions:\\n1. Have you worked on developing vehicle data collection and processing solutions in a fast-paced environment? Can you provide an example of a project where you used cutting-edge technologies to handle large amounts of data?\\n2. How familiar are you with data security policies and implementing them in your work? Can you share an experience where you were involved in developing and implementing such policies?\\n3. Have you worked with Docker and Kubernetes at a namespace level? How did you use these tools in your previous projects?\\n4. Can you explain your experience with developing on RDBMS platforms such as PostgreSQL, Oracle, or Yugabyte? What types of projects have you worked on with these databases?\\n5. Have you built reusable data integration frameworks and patterns? Can you provide an example of a project where you implemented such frameworks to optimize data systems and pipeline architecture?\"\n",
    "trial=trial.split('\\n')\n",
    "print(trial)\n",
    "newlist=[]\n",
    "for i in trial:\n",
    "    if i!='':\n",
    "        if i[0].isnumeric():\n",
    "            i=i[i.find(\".\")+2:]\n",
    "            i=i+\"\\n\"\n",
    "            newlist.append(i)\n",
    "\n",
    "\n",
    "\n",
    "newresponse=''\n",
    "\n",
    "for i in newlist:\n",
    "    newresponse=newresponse+i\n",
    "\n",
    "newresponse=newresponse[:-1]\n",
    "['Resume-based questions:', '1. Can you explain your experience as a Data Analyst Intern at Apexus Tech Inc? Specifically, how did you enhance the efficiency of data retrieval and storage for the ETF database?', '2. In your role as a Business Analyst PTA at Bytedance Ltd, how did you provide ad-hoc data support to the team and what were the results?', \"3. Tell me about your Business Analytics Project at New York University. What were the key findings and conclusions from your analysis of Shanghai Disneyland's Fastpass system?\", '4. In your Housing Price Projection Project, how did you improve the prediction accuracy of housing prices? Can you explain the feature selection and engineering process you used?', \"5. What were the key financial metrics you analyzed in your Investment Recommendation Project for Stanley Black & Decker? How did you identify the company's strengths and weaknesses?\", '', 'Job role-based questions:', '1. Have you worked on developing vehicle data collection and processing solutions in a fast-paced environment? Can you provide an example of a project where you used cutting-edge technologies to handle large amounts of data?', '2. How familiar are you with data security policies and implementing them in your work? Can you share an experience where you were involved in developing and implementing such policies?', '3. Have you worked with Docker and Kubernetes at a namespace level? How did you use these tools in your previous projects?', '4. Can you explain your experience with developing on RDBMS platforms such as PostgreSQL, Oracle, or Yugabyte? What types of projects have you worked on with these databases?', '5. Have you built reusable data integration frameworks and patterns? Can you provide an example of a project where you implemented such frameworks to optimize data systems and pipeline architecture?']\n",
    "print(newresponse)\n",
    "Can you explain your experience as a Data Analyst Intern at Apexus Tech Inc? Specifically, how did you enhance the efficiency of data retrieval and storage for the ETF database?\n",
    "In your role as a Business Analyst PTA at Bytedance Ltd, how did you provide ad-hoc data support to the team and what were the results?\n",
    "Tell me about your Business Analytics Project at New York University. What were the key findings and conclusions from your analysis of Shanghai Disneyland's Fastpass system?\n",
    "In your Housing Price Projection Project, how did you improve the prediction accuracy of housing prices? Can you explain the feature selection and engineering process you used?\n",
    "What were the key financial metrics you analyzed in your Investment Recommendation Project for Stanley Black & Decker? How did you identify the company's strengths and weaknesses?\n",
    "Have you worked on developing vehicle data collection and processing solutions in a fast-paced environment? Can you provide an example of a project where you used cutting-edge technologies to handle large amounts of data?\n",
    "How familiar are you with data security policies and implementing them in your work? Can you share an experience where you were involved in developing and implementing such policies?\n",
    "Have you worked with Docker and Kubernetes at a namespace level? How did you use these tools in your previous projects?\n",
    "Can you explain your experience with developing on RDBMS platforms such as PostgreSQL, Oracle, or Yugabyte? What types of projects have you worked on with these databases?\n",
    "Have you built reusable data integration frameworks and patterns? Can you provide an example of a project where you implemented such frameworks to optimize data systems and pipeline architecture?\n",
    "a=\"\\n\"\n",
    "a[0]\n",
    "'\\n'"
   ]
  },
  {
   "cell_type": "code",
   "execution_count": 4,
   "metadata": {},
   "outputs": [
    {
     "data": {
      "text/plain": [
       "\"1. Can you explain your experience with building efficient database structures for storing market data? How did you ensure reliability and speed in data processing?\\n2. Tell us about your experience with NLP-driven sentiment analysis on the financial market. How did you use this analysis to develop stock price predictions and investment strategies?\\n3. Can you provide an example of a time when you used Python multithreading to enhance the efficiency of data retrieval and storage? What were the results?\\n4. How have you leveraged Python and Plotly to retrieve and visualize real-time minute-level stock price data? How did this enable comprehensive data analysis and decision-making?\\n5. Describe your experience with creating self-service SQL queries to investigate sudden drops in commercial advertising revenue. How did you provide data support to the team and train key stakeholders?\\n6. Can you explain how you designed a Tableau dashboard to enable customers to view and analyze advertising revenue performance across multiple dimensions? What was the impact of this dashboard?\\n7. Walk us through your involvement in the Business Analytics Project analyzing whether Shanghai Disneyland should implement a Fastpass system. How did you use data analysis techniques such as NLP sentiment analysis, A/B testing, and regression to make recommendations?\\n8. Tell us about your experience in the Housing Price Projection Project. How did you design an end-to-end data pipeline to process and analyze housing records? What methods did you use to improve prediction accuracy?\\n9. Discuss your role in analyzing Stanley Black & Decker's historical financial statements. How did you calculate and interpret essential financial ratios to identify strengths and weaknesses? What recommendations did you provide for investors?\\n10. Can you provide examples of how you have utilized your programming skills, such as Python (pandas, NumPy, sklearn), SQL, and Java, in your professional and academic projects?\""
      ]
     },
     "execution_count": 4,
     "metadata": {},
     "output_type": "execute_result"
    }
   ],
   "source": [
    "response_content = response.choices[0].message.content\n",
    "response_content"
   ]
  }
 ],
 "metadata": {
  "kernelspec": {
   "display_name": "Python 3.11.0 64-bit",
   "language": "python",
   "name": "python3"
  },
  "language_info": {
   "codemirror_mode": {
    "name": "ipython",
    "version": 3
   },
   "file_extension": ".py",
   "mimetype": "text/x-python",
   "name": "python",
   "nbconvert_exporter": "python",
   "pygments_lexer": "ipython3",
   "version": "3.11.0"
  },
  "orig_nbformat": 4,
  "vscode": {
   "interpreter": {
    "hash": "aee8b7b246df8f9039afb4144a1f6fd8d2ca17a180786b69acc140d282b71a49"
   }
  }
 },
 "nbformat": 4,
 "nbformat_minor": 2
}
