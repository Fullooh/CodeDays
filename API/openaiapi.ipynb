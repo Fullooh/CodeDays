{
 "cells": [
  {
   "cell_type": "code",
   "execution_count": 28,
   "metadata": {},
   "outputs": [
    {
     "name": "stdout",
     "output_type": "stream",
     "text": [
      "Resume-based questions:\n",
      "1. Can you explain your experience as a Data Analyst Intern at Apexus Tech Inc? Specifically, how did you enhance the efficiency of data retrieval and storage for the ETF database?\n",
      "2. In your role as a Business Analyst PTA at Bytedance Ltd, how did you provide ad-hoc data support to the team and what were the results?\n",
      "3. Tell me about your Business Analytics Project at New York University. What were the key findings and conclusions from your analysis of Shanghai Disneyland's Fastpass system?\n",
      "4. In your Housing Price Projection Project, how did you improve the prediction accuracy of housing prices? Can you explain the feature selection and engineering process you used?\n",
      "5. What were the key financial metrics you analyzed in your Investment Recommendation Project for Stanley Black & Decker? How did you identify the company's strengths and weaknesses?\n",
      "\n",
      "Job role-based questions:\n",
      "1. Have you worked on developing vehicle data collection and processing solutions in a fast-paced environment? Can you provide an example of a project where you used cutting-edge technologies to handle large amounts of data?\n",
      "2. How familiar are you with data security policies and implementing them in your work? Can you share an experience where you were involved in developing and implementing such policies?\n",
      "3. Have you worked with Docker and Kubernetes at a namespace level? How did you use these tools in your previous projects?\n",
      "4. Can you explain your experience with developing on RDBMS platforms such as PostgreSQL, Oracle, or Yugabyte? What types of projects have you worked on with these databases?\n",
      "5. Have you built reusable data integration frameworks and patterns? Can you provide an example of a project where you implemented such frameworks to optimize data systems and pipeline architecture?\n"
     ]
    }
   ],
   "source": [
    "import openai\n",
    "\n",
    "openai.api_key = \"\"\n",
    "\n",
    "resume=input('please paste your resume here: ')+'/n'\n",
    "job=input('please paste your job here: ')+'/n'\n",
    "systempromt = \"You are an interviewer at the HR department at a company.\"\n",
    "userpromt= 'Given the resume of the interviewee: '+resume+ 'and the job description for the role'+job+\"please generate 5 interview questions that are specifically tailored to the candidate's resume and 5 interview questions based on the requirements of the job role. Only return questions without any additional information or empty lines.\"\n",
    "\n",
    "#print(userpromt)\n",
    "\n",
    "message=[\n",
    "    {\n",
    "      \"role\": \"system\",\n",
    "      \"content\": systempromt\n",
    "    },\n",
    "    {\n",
    "      \"role\": \"user\",\n",
    "      \"content\": userpromt\n",
    "    }\n",
    "  ]\n",
    "\n",
    "response = openai.ChatCompletion.create(\n",
    "  model=\"gpt-3.5-turbo\",\n",
    "  messages=message,\n",
    "  temperature=0.6,\n",
    "  max_tokens=1000,\n",
    "  top_p=1,\n",
    "  frequency_penalty=0,\n",
    "  presence_penalty=0\n",
    ")\n",
    "\n",
    "response_content = response.choices[0].message.content\n",
    "print(response_content)"
   ]
  },
  {
   "cell_type": "code",
   "execution_count": 29,
   "metadata": {},
   "outputs": [
    {
     "data": {
      "text/plain": [
       "\"Resume-based questions:\\n1. Can you explain your experience as a Data Analyst Intern at Apexus Tech Inc? Specifically, how did you enhance the efficiency of data retrieval and storage for the ETF database?\\n2. In your role as a Business Analyst PTA at Bytedance Ltd, how did you provide ad-hoc data support to the team and what were the results?\\n3. Tell me about your Business Analytics Project at New York University. What were the key findings and conclusions from your analysis of Shanghai Disneyland's Fastpass system?\\n4. In your Housing Price Projection Project, how did you improve the prediction accuracy of housing prices? Can you explain the feature selection and engineering process you used?\\n5. What were the key financial metrics you analyzed in your Investment Recommendation Project for Stanley Black & Decker? How did you identify the company's strengths and weaknesses?\\n\\nJob role-based questions:\\n1. Have you worked on developing vehicle data collection and processing solutions in a fast-paced environment? Can you provide an example of a project where you used cutting-edge technologies to handle large amounts of data?\\n2. How familiar are you with data security policies and implementing them in your work? Can you share an experience where you were involved in developing and implementing such policies?\\n3. Have you worked with Docker and Kubernetes at a namespace level? How did you use these tools in your previous projects?\\n4. Can you explain your experience with developing on RDBMS platforms such as PostgreSQL, Oracle, or Yugabyte? What types of projects have you worked on with these databases?\\n5. Have you built reusable data integration frameworks and patterns? Can you provide an example of a project where you implemented such frameworks to optimize data systems and pipeline architecture?\""
      ]
     },
     "execution_count": 29,
     "metadata": {},
     "output_type": "execute_result"
    }
   ],
   "source": [
    "trial=response_content\n",
    "trial\n"
   ]
  },
  {
   "cell_type": "code",
   "execution_count": 30,
   "metadata": {},
   "outputs": [
    {
     "name": "stdout",
     "output_type": "stream",
     "text": [
      "['Resume-based questions:', '1. Can you explain your experience as a Data Analyst Intern at Apexus Tech Inc? Specifically, how did you enhance the efficiency of data retrieval and storage for the ETF database?', '2. In your role as a Business Analyst PTA at Bytedance Ltd, how did you provide ad-hoc data support to the team and what were the results?', \"3. Tell me about your Business Analytics Project at New York University. What were the key findings and conclusions from your analysis of Shanghai Disneyland's Fastpass system?\", '4. In your Housing Price Projection Project, how did you improve the prediction accuracy of housing prices? Can you explain the feature selection and engineering process you used?', \"5. What were the key financial metrics you analyzed in your Investment Recommendation Project for Stanley Black & Decker? How did you identify the company's strengths and weaknesses?\", '', 'Job role-based questions:', '1. Have you worked on developing vehicle data collection and processing solutions in a fast-paced environment? Can you provide an example of a project where you used cutting-edge technologies to handle large amounts of data?', '2. How familiar are you with data security policies and implementing them in your work? Can you share an experience where you were involved in developing and implementing such policies?', '3. Have you worked with Docker and Kubernetes at a namespace level? How did you use these tools in your previous projects?', '4. Can you explain your experience with developing on RDBMS platforms such as PostgreSQL, Oracle, or Yugabyte? What types of projects have you worked on with these databases?', '5. Have you built reusable data integration frameworks and patterns? Can you provide an example of a project where you implemented such frameworks to optimize data systems and pipeline architecture?']\n"
     ]
    }
   ],
   "source": [
    "trial=trial.split('\\n')\n",
    "print(trial)\n",
    "newlist=[]\n",
    "for i in trial:\n",
    "    if i!='':\n",
    "        if i[0].isnumeric():\n",
    "            i=i[i.find(\".\")+2:]\n",
    "            i=i+\"\\n\"\n",
    "            newlist.append(i)\n",
    "\n",
    "\n",
    "\n",
    "newresponse=''\n",
    "\n",
    "for i in newlist:\n",
    "    newresponse=newresponse+i\n",
    "\n",
    "newresponse=newresponse[:-1]\n",
    "\n",
    "\n"
   ]
  },
  {
   "cell_type": "code",
   "execution_count": 31,
   "metadata": {},
   "outputs": [
    {
     "name": "stdout",
     "output_type": "stream",
     "text": [
      "Can you explain your experience as a Data Analyst Intern at Apexus Tech Inc? Specifically, how did you enhance the efficiency of data retrieval and storage for the ETF database?\n",
      "In your role as a Business Analyst PTA at Bytedance Ltd, how did you provide ad-hoc data support to the team and what were the results?\n",
      "Tell me about your Business Analytics Project at New York University. What were the key findings and conclusions from your analysis of Shanghai Disneyland's Fastpass system?\n",
      "In your Housing Price Projection Project, how did you improve the prediction accuracy of housing prices? Can you explain the feature selection and engineering process you used?\n",
      "What were the key financial metrics you analyzed in your Investment Recommendation Project for Stanley Black & Decker? How did you identify the company's strengths and weaknesses?\n",
      "Have you worked on developing vehicle data collection and processing solutions in a fast-paced environment? Can you provide an example of a project where you used cutting-edge technologies to handle large amounts of data?\n",
      "How familiar are you with data security policies and implementing them in your work? Can you share an experience where you were involved in developing and implementing such policies?\n",
      "Have you worked with Docker and Kubernetes at a namespace level? How did you use these tools in your previous projects?\n",
      "Can you explain your experience with developing on RDBMS platforms such as PostgreSQL, Oracle, or Yugabyte? What types of projects have you worked on with these databases?\n",
      "Have you built reusable data integration frameworks and patterns? Can you provide an example of a project where you implemented such frameworks to optimize data systems and pipeline architecture?\n"
     ]
    }
   ],
   "source": [
    "print(newresponse)"
   ]
  },
  {
   "cell_type": "code",
   "execution_count": 22,
   "metadata": {},
   "outputs": [
    {
     "data": {
      "text/plain": [
       "'\\n'"
      ]
     },
     "execution_count": 22,
     "metadata": {},
     "output_type": "execute_result"
    }
   ],
   "source": [
    "a=\"\\n\"\n",
    "a[0]"
   ]
  }
 ],
 "metadata": {
  "kernelspec": {
   "display_name": "Python 3.11.0 64-bit",
   "language": "python",
   "name": "python3"
  },
  "language_info": {
   "codemirror_mode": {
    "name": "ipython",
    "version": 3
   },
   "file_extension": ".py",
   "mimetype": "text/x-python",
   "name": "python",
   "nbconvert_exporter": "python",
   "pygments_lexer": "ipython3",
   "version": "3.8.9"
  },
  "orig_nbformat": 4,
  "vscode": {
   "interpreter": {
    "hash": "aee8b7b246df8f9039afb4144a1f6fd8d2ca17a180786b69acc140d282b71a49"
   }
  }
 },
 "nbformat": 4,
 "nbformat_minor": 2
}
